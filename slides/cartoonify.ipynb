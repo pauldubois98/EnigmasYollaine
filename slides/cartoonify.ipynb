{
 "cells": [
  {
   "cell_type": "code",
   "execution_count": null,
   "metadata": {},
   "outputs": [],
   "source": [
    "import cv2\n",
    "import numpy as np\n",
    "import matplotlib.pyplot as plt"
   ]
  },
  {
   "cell_type": "code",
   "execution_count": null,
   "metadata": {},
   "outputs": [],
   "source": [
    "img = cv2.imread(\"pictures/test.jpg\")\n",
    "img = cv2.cvtColor(img,cv2.COLOR_BGR2RGB)\n",
    "plt.figure(figsize=(5,5))\n",
    "plt.imshow(img)\n",
    "plt.axis(\"off\")\n",
    "plt.title(\"Original Image\")\n",
    "plt.show()"
   ]
  },
  {
   "cell_type": "code",
   "execution_count": null,
   "metadata": {},
   "outputs": [],
   "source": [
    "img_hvs = cv2.cvtColor(img,cv2.COLOR_RGB2HSV)\n",
    "n = 8\n",
    "k = 256//n\n",
    "img_hvs[:,:,0] = k*(img_hvs[:,:,0]//k) + k//2\n",
    "n = 4\n",
    "k = 256//n\n",
    "img_hvs[:,:,1] = k*(img_hvs[:,:,1]//k) + k//2\n",
    "n = 4\n",
    "k = 256//n\n",
    "img_bis = cv2.cvtColor(img_hvs,cv2.COLOR_HSV2RGB)\n",
    "plt.figure(figsize=(5,5))\n",
    "plt.imshow(img_bis)\n",
    "plt.axis(\"off\")\n",
    "plt.title(\"Fewer Colors Image\")\n",
    "plt.show()"
   ]
  },
  {
   "cell_type": "code",
   "execution_count": null,
   "metadata": {},
   "outputs": [],
   "source": [
    "gray = cv2.cvtColor(img,cv2.COLOR_RGB2GRAY)\n",
    "plt.figure(figsize=(5,5))\n",
    "plt.imshow(gray,cmap=\"gray\")\n",
    "plt.axis(\"off\")\n",
    "plt.title(\"Grayscale Image\")\n",
    "plt.show()"
   ]
  },
  {
   "cell_type": "code",
   "execution_count": null,
   "metadata": {},
   "outputs": [],
   "source": [
    "gray = cv2.cvtColor(img,cv2.COLOR_RGB2GRAY)\n",
    "edges = cv2.adaptiveThreshold(gray, 255, cv2.ADAPTIVE_THRESH_MEAN_C, cv2.THRESH_BINARY, 25,25)\n",
    "plt.figure(figsize=(5,5))\n",
    "plt.imshow(edges,cmap=\"gray\")\n",
    "plt.axis(\"off\")\n",
    "plt.title(\"Edged Image\")\n",
    "plt.show()"
   ]
  },
  {
   "cell_type": "code",
   "execution_count": null,
   "metadata": {},
   "outputs": [],
   "source": [
    "cv2.ADAPTIVE_THRESH_MEAN_C, cv2.THRESH_BINARY, cv2.ADAPTIVE_THRESH_GAUSSIAN_C"
   ]
  },
  {
   "cell_type": "code",
   "execution_count": null,
   "metadata": {},
   "outputs": [],
   "source": [
    "cartoon = cv2.bitwise_and(img_bis, img_bis, mask=edges)\n",
    "plt.figure(figsize=(5,5))\n",
    "plt.imshow(cartoon)\n",
    "plt.axis(\"off\")\n",
    "plt.title(\"Cartoon Image\")\n",
    "plt.show()\n",
    "cv2.imwrite(\"cartoons/DSC00137.jpg\",cartoon[:,:,::-1])"
   ]
  }
 ],
 "metadata": {
  "kernelspec": {
   "display_name": "Python 3",
   "language": "python",
   "name": "python3"
  },
  "language_info": {
   "codemirror_mode": {
    "name": "ipython",
    "version": 3
   },
   "file_extension": ".py",
   "mimetype": "text/x-python",
   "name": "python",
   "nbconvert_exporter": "python",
   "pygments_lexer": "ipython3",
   "version": "3.11.4"
  }
 },
 "nbformat": 4,
 "nbformat_minor": 2
}
